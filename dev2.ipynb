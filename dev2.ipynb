{
 "cells": [
  {
   "cell_type": "code",
   "execution_count": 88,
   "metadata": {},
   "outputs": [
    {
     "name": "stderr",
     "output_type": "stream",
     "text": [
      "[nltk_data] Downloading package punkt to\n",
      "[nltk_data]     /Users/thiagomacedo/nltk_data...\n",
      "[nltk_data]   Package punkt is already up-to-date!\n",
      "[nltk_data] Downloading package wordnet to\n",
      "[nltk_data]     /Users/thiagomacedo/nltk_data...\n",
      "[nltk_data]   Package wordnet is already up-to-date!\n",
      "[nltk_data] Downloading package stopwords to\n",
      "[nltk_data]     /Users/thiagomacedo/nltk_data...\n",
      "[nltk_data]   Package stopwords is already up-to-date!\n"
     ]
    },
    {
     "data": {
      "text/plain": [
       "True"
      ]
     },
     "execution_count": 88,
     "metadata": {},
     "output_type": "execute_result"
    }
   ],
   "source": [
    "import pandas as pd\n",
    "import numpy as np\n",
    "from sklearn.model_selection import train_test_split, GridSearchCV, StratifiedKFold\n",
    "from sklearn.neighbors import KNeighborsClassifier\n",
    "from sklearn.neural_network import MLPClassifier\n",
    "from sklearn.ensemble import RandomForestClassifier, AdaBoostClassifier, StackingClassifier\n",
    "from sklearn.svm import SVC\n",
    "from sklearn.linear_model import LogisticRegression\n",
    "from sklearn.naive_bayes import MultinomialNB\n",
    "from sklearn.pipeline import Pipeline\n",
    "from sklearn.feature_extraction.text import CountVectorizer, TfidfVectorizer, TfidfTransformer\n",
    "from sklearn.metrics import classification_report, confusion_matrix\n",
    "from xgboost import XGBClassifier\n",
    "import nltk\n",
    "from nltk.corpus import stopwords\n",
    "from nltk.tokenize import word_tokenize\n",
    "from nltk.stem.wordnet import WordNetLemmatizer\n",
    "import pandas as pd\n",
    "import numpy as np\n",
    "import re \n",
    "import matplotlib.pyplot as plt\n",
    "import seaborn as sns\n",
    "from imblearn.over_sampling import SMOTE\n",
    "\n",
    "sns.color_palette(\"icefire\", as_cmap=True)\n",
    "nltk.download(['punkt', 'wordnet', 'stopwords'])"
   ]
  },
  {
   "cell_type": "code",
   "execution_count": 6,
   "metadata": {},
   "outputs": [
    {
     "data": {
      "text/html": [
       "<div>\n",
       "<style scoped>\n",
       "    .dataframe tbody tr th:only-of-type {\n",
       "        vertical-align: middle;\n",
       "    }\n",
       "\n",
       "    .dataframe tbody tr th {\n",
       "        vertical-align: top;\n",
       "    }\n",
       "\n",
       "    .dataframe thead th {\n",
       "        text-align: right;\n",
       "    }\n",
       "</style>\n",
       "<table border=\"1\" class=\"dataframe\">\n",
       "  <thead>\n",
       "    <tr style=\"text-align: right;\">\n",
       "      <th></th>\n",
       "      <th>author_id</th>\n",
       "      <th>created_at</th>\n",
       "      <th>id</th>\n",
       "      <th>lang</th>\n",
       "      <th>retweet_count</th>\n",
       "      <th>text</th>\n",
       "      <th>sinal</th>\n",
       "    </tr>\n",
       "  </thead>\n",
       "  <tbody>\n",
       "    <tr>\n",
       "      <th>0</th>\n",
       "      <td>1,46E+18</td>\n",
       "      <td>2022-08-08T01:08:23Z</td>\n",
       "      <td>1,56E+18</td>\n",
       "      <td>pt</td>\n",
       "      <td>45</td>\n",
       "      <td>RT @EdegarPretto O meu candidato vice-governad...</td>\n",
       "      <td>1.0</td>\n",
       "    </tr>\n",
       "    <tr>\n",
       "      <th>1</th>\n",
       "      <td>1,51E+18</td>\n",
       "      <td>2022-08-08T01:08:23Z</td>\n",
       "      <td>1,56E+18</td>\n",
       "      <td>pt</td>\n",
       "      <td>0</td>\n",
       "      <td>Periga o Argenta chamar o Simon pra responder ...</td>\n",
       "      <td>NaN</td>\n",
       "    </tr>\n",
       "    <tr>\n",
       "      <th>2</th>\n",
       "      <td>1,06E+18</td>\n",
       "      <td>2022-08-08T01:08:21Z</td>\n",
       "      <td>1,56E+18</td>\n",
       "      <td>pt</td>\n",
       "      <td>14</td>\n",
       "      <td>RT @WinstonLing Segue o link para assistirem o...</td>\n",
       "      <td>1.0</td>\n",
       "    </tr>\n",
       "    <tr>\n",
       "      <th>3</th>\n",
       "      <td>7,15E+17</td>\n",
       "      <td>2022-08-08T01:08:20Z</td>\n",
       "      <td>1,56E+18</td>\n",
       "      <td>pt</td>\n",
       "      <td>88</td>\n",
       "      <td>RT @EdegarPretto Eu quero dizer aos gaúchos e ...</td>\n",
       "      <td>NaN</td>\n",
       "    </tr>\n",
       "    <tr>\n",
       "      <th>4</th>\n",
       "      <td>1455004730</td>\n",
       "      <td>2022-08-08T01:08:20Z</td>\n",
       "      <td>1,56E+18</td>\n",
       "      <td>pt</td>\n",
       "      <td>0</td>\n",
       "      <td>@wmfigueiredo @evertonvf @bandrs @EduardoLeite...</td>\n",
       "      <td>0.0</td>\n",
       "    </tr>\n",
       "  </tbody>\n",
       "</table>\n",
       "</div>"
      ],
      "text/plain": [
       "    author_id            created_at        id lang  retweet_count  \\\n",
       "0    1,46E+18  2022-08-08T01:08:23Z  1,56E+18   pt             45   \n",
       "1    1,51E+18  2022-08-08T01:08:23Z  1,56E+18   pt              0   \n",
       "2    1,06E+18  2022-08-08T01:08:21Z  1,56E+18   pt             14   \n",
       "3    7,15E+17  2022-08-08T01:08:20Z  1,56E+18   pt             88   \n",
       "4  1455004730  2022-08-08T01:08:20Z  1,56E+18   pt              0   \n",
       "\n",
       "                                                text  sinal  \n",
       "0  RT @EdegarPretto O meu candidato vice-governad...    1.0  \n",
       "1  Periga o Argenta chamar o Simon pra responder ...    NaN  \n",
       "2  RT @WinstonLing Segue o link para assistirem o...    1.0  \n",
       "3  RT @EdegarPretto Eu quero dizer aos gaúchos e ...    NaN  \n",
       "4  @wmfigueiredo @evertonvf @bandrs @EduardoLeite...    0.0  "
      ]
     },
     "execution_count": 6,
     "metadata": {},
     "output_type": "execute_result"
    }
   ],
   "source": [
    "df = pd.read_csv('tweets.csv')\n",
    "df.head()"
   ]
  },
  {
   "cell_type": "code",
   "execution_count": 7,
   "metadata": {},
   "outputs": [
    {
     "name": "stdout",
     "output_type": "stream",
     "text": [
      "<class 'pandas.core.frame.DataFrame'>\n",
      "RangeIndex: 3000 entries, 0 to 2999\n",
      "Data columns (total 7 columns):\n",
      " #   Column         Non-Null Count  Dtype  \n",
      "---  ------         --------------  -----  \n",
      " 0   author_id      3000 non-null   object \n",
      " 1   created_at     3000 non-null   object \n",
      " 2   id             3000 non-null   object \n",
      " 3   lang           3000 non-null   object \n",
      " 4   retweet_count  3000 non-null   int64  \n",
      " 5   text           3000 non-null   object \n",
      " 6   sinal          1372 non-null   float64\n",
      "dtypes: float64(1), int64(1), object(5)\n",
      "memory usage: 164.2+ KB\n"
     ]
    }
   ],
   "source": [
    "df.info()"
   ]
  },
  {
   "cell_type": "code",
   "execution_count": 8,
   "metadata": {},
   "outputs": [
    {
     "data": {
      "text/html": [
       "<div>\n",
       "<style scoped>\n",
       "    .dataframe tbody tr th:only-of-type {\n",
       "        vertical-align: middle;\n",
       "    }\n",
       "\n",
       "    .dataframe tbody tr th {\n",
       "        vertical-align: top;\n",
       "    }\n",
       "\n",
       "    .dataframe thead th {\n",
       "        text-align: right;\n",
       "    }\n",
       "</style>\n",
       "<table border=\"1\" class=\"dataframe\">\n",
       "  <thead>\n",
       "    <tr style=\"text-align: right;\">\n",
       "      <th></th>\n",
       "      <th>text</th>\n",
       "      <th>sinal</th>\n",
       "    </tr>\n",
       "  </thead>\n",
       "  <tbody>\n",
       "    <tr>\n",
       "      <th>0</th>\n",
       "      <td>RT @EdegarPretto O meu candidato vice-governad...</td>\n",
       "      <td>1.0</td>\n",
       "    </tr>\n",
       "    <tr>\n",
       "      <th>1</th>\n",
       "      <td>Periga o Argenta chamar o Simon pra responder ...</td>\n",
       "      <td>NaN</td>\n",
       "    </tr>\n",
       "    <tr>\n",
       "      <th>2</th>\n",
       "      <td>RT @WinstonLing Segue o link para assistirem o...</td>\n",
       "      <td>1.0</td>\n",
       "    </tr>\n",
       "    <tr>\n",
       "      <th>3</th>\n",
       "      <td>RT @EdegarPretto Eu quero dizer aos gaúchos e ...</td>\n",
       "      <td>NaN</td>\n",
       "    </tr>\n",
       "    <tr>\n",
       "      <th>4</th>\n",
       "      <td>@wmfigueiredo @evertonvf @bandrs @EduardoLeite...</td>\n",
       "      <td>0.0</td>\n",
       "    </tr>\n",
       "  </tbody>\n",
       "</table>\n",
       "</div>"
      ],
      "text/plain": [
       "                                                text  sinal\n",
       "0  RT @EdegarPretto O meu candidato vice-governad...    1.0\n",
       "1  Periga o Argenta chamar o Simon pra responder ...    NaN\n",
       "2  RT @WinstonLing Segue o link para assistirem o...    1.0\n",
       "3  RT @EdegarPretto Eu quero dizer aos gaúchos e ...    NaN\n",
       "4  @wmfigueiredo @evertonvf @bandrs @EduardoLeite...    0.0"
      ]
     },
     "execution_count": 8,
     "metadata": {},
     "output_type": "execute_result"
    }
   ],
   "source": [
    "df = df.drop(columns=['author_id', 'created_at', 'id', 'lang', 'retweet_count'])\n",
    "df.head()"
   ]
  },
  {
   "cell_type": "code",
   "execution_count": 9,
   "metadata": {},
   "outputs": [
    {
     "data": {
      "text/plain": [
       "text        0\n",
       "sinal    1628\n",
       "dtype: int64"
      ]
     },
     "execution_count": 9,
     "metadata": {},
     "output_type": "execute_result"
    }
   ],
   "source": [
    "df.isnull().sum()"
   ]
  },
  {
   "cell_type": "code",
   "execution_count": 10,
   "metadata": {},
   "outputs": [
    {
     "data": {
      "text/plain": [
       "text     0\n",
       "sinal    0\n",
       "dtype: int64"
      ]
     },
     "execution_count": 10,
     "metadata": {},
     "output_type": "execute_result"
    }
   ],
   "source": [
    "df = df.dropna()\n",
    "df.isnull().sum()"
   ]
  },
  {
   "cell_type": "code",
   "execution_count": 11,
   "metadata": {},
   "outputs": [
    {
     "data": {
      "text/plain": [
       "253"
      ]
     },
     "execution_count": 11,
     "metadata": {},
     "output_type": "execute_result"
    }
   ],
   "source": [
    "df.duplicated().sum()"
   ]
  },
  {
   "cell_type": "code",
   "execution_count": 12,
   "metadata": {},
   "outputs": [
    {
     "data": {
      "text/plain": [
       "0"
      ]
     },
     "execution_count": 12,
     "metadata": {},
     "output_type": "execute_result"
    }
   ],
   "source": [
    "df = df.drop_duplicates()\n",
    "df.duplicated().sum()"
   ]
  },
  {
   "cell_type": "code",
   "execution_count": 13,
   "metadata": {},
   "outputs": [
    {
     "data": {
      "text/plain": [
       "(1119, 2)"
      ]
     },
     "execution_count": 13,
     "metadata": {},
     "output_type": "execute_result"
    }
   ],
   "source": [
    "df.shape"
   ]
  },
  {
   "cell_type": "code",
   "execution_count": 15,
   "metadata": {},
   "outputs": [
    {
     "data": {
      "text/html": [
       "<div>\n",
       "<style scoped>\n",
       "    .dataframe tbody tr th:only-of-type {\n",
       "        vertical-align: middle;\n",
       "    }\n",
       "\n",
       "    .dataframe tbody tr th {\n",
       "        vertical-align: top;\n",
       "    }\n",
       "\n",
       "    .dataframe thead th {\n",
       "        text-align: right;\n",
       "    }\n",
       "</style>\n",
       "<table border=\"1\" class=\"dataframe\">\n",
       "  <thead>\n",
       "    <tr style=\"text-align: right;\">\n",
       "      <th></th>\n",
       "      <th>text</th>\n",
       "      <th>sinal</th>\n",
       "    </tr>\n",
       "  </thead>\n",
       "  <tbody>\n",
       "    <tr>\n",
       "      <th>0</th>\n",
       "      <td>RT @EdegarPretto O meu candidato vice-governad...</td>\n",
       "      <td>1</td>\n",
       "    </tr>\n",
       "    <tr>\n",
       "      <th>2</th>\n",
       "      <td>RT @WinstonLing Segue o link para assistirem o...</td>\n",
       "      <td>1</td>\n",
       "    </tr>\n",
       "    <tr>\n",
       "      <th>4</th>\n",
       "      <td>@wmfigueiredo @evertonvf @bandrs @EduardoLeite...</td>\n",
       "      <td>0</td>\n",
       "    </tr>\n",
       "    <tr>\n",
       "      <th>5</th>\n",
       "      <td>@EduardoLeite_ 🤡</td>\n",
       "      <td>0</td>\n",
       "    </tr>\n",
       "    <tr>\n",
       "      <th>6</th>\n",
       "      <td>Nós já governamos o Rio Grande Sul com @olivio...</td>\n",
       "      <td>0</td>\n",
       "    </tr>\n",
       "    <tr>\n",
       "      <th>7</th>\n",
       "      <td>Onyx Caixa 2 confesso não pode falar em corrup...</td>\n",
       "      <td>0</td>\n",
       "    </tr>\n",
       "    <tr>\n",
       "      <th>8</th>\n",
       "      <td>@onyxlorenzoni Essa gente de bem é mesma que é...</td>\n",
       "      <td>0</td>\n",
       "    </tr>\n",
       "    <tr>\n",
       "      <th>9</th>\n",
       "      <td>RT @LeonelRadde @EdegarPretto demolindo o Onyx...</td>\n",
       "      <td>0</td>\n",
       "    </tr>\n",
       "    <tr>\n",
       "      <th>10</th>\n",
       "      <td>RT @JulianaBrizola Oi O PDT não coloca educaçã...</td>\n",
       "      <td>0</td>\n",
       "    </tr>\n",
       "    <tr>\n",
       "      <th>11</th>\n",
       "      <td>RT @O_Marcoss Chegou até suar o implante novo ...</td>\n",
       "      <td>0</td>\n",
       "    </tr>\n",
       "  </tbody>\n",
       "</table>\n",
       "</div>"
      ],
      "text/plain": [
       "                                                 text  sinal\n",
       "0   RT @EdegarPretto O meu candidato vice-governad...      1\n",
       "2   RT @WinstonLing Segue o link para assistirem o...      1\n",
       "4   @wmfigueiredo @evertonvf @bandrs @EduardoLeite...      0\n",
       "5                                   @EduardoLeite_ 🤡       0\n",
       "6   Nós já governamos o Rio Grande Sul com @olivio...      0\n",
       "7   Onyx Caixa 2 confesso não pode falar em corrup...      0\n",
       "8   @onyxlorenzoni Essa gente de bem é mesma que é...      0\n",
       "9   RT @LeonelRadde @EdegarPretto demolindo o Onyx...      0\n",
       "10  RT @JulianaBrizola Oi O PDT não coloca educaçã...      0\n",
       "11  RT @O_Marcoss Chegou até suar o implante novo ...      0"
      ]
     },
     "execution_count": 15,
     "metadata": {},
     "output_type": "execute_result"
    }
   ],
   "source": [
    "df['sinal'] = df['sinal'].astype('int64')\n",
    "df.head(10)"
   ]
  },
  {
   "cell_type": "code",
   "execution_count": 83,
   "metadata": {},
   "outputs": [
    {
     "data": {
      "image/png": "[encoded data removed]",
      "text/plain": [
       "<Figure size 720x432 with 1 Axes>"
      ]
     },
     "metadata": {
      "needs_background": "light"
     },
     "output_type": "display_data"
    }
   ],
   "source": [
    "df2 = df.groupby('sinal').count()\n",
    "df2 = df2.reset_index()\n",
    "df2['sinal'] = df2['sinal'].apply(lambda x: 'negative' if x==0 else 'positive')\n",
    "\n",
    "plt.figure(figsize=(10,6))\n",
    "ax = sns.barplot(data=df2, x='sinal', y='text', palette='hls', edgecolor='black')\n",
    "ax.set_title('tweets negativos x positivos')\n",
    "ax.set_ylabel('contagem')\n",
    "ax.set_xlabel('tweet')\n",
    "\n",
    "for i in ax.containers:\n",
    "    ax.bar_label(i, size=10)\n",
    "\n",
    "plt.show()"
   ]
  },
  {
   "cell_type": "markdown",
   "metadata": {},
   "source": [
    "## Upsampling dos tweets positivos"
   ]
  },
  {
   "cell_type": "code",
   "execution_count": 96,
   "metadata": {},
   "outputs": [],
   "source": [
    "def tokenize(text):\n",
    "    # make all text lowercase \n",
    "    text = text.lower()\n",
    "\n",
    "    # remove all type of punctuations \n",
    "    text = re.sub(f'[^a-z0-9]',' ', text)\n",
    "\n",
    "    # tokenize the text\n",
    "    tokens = word_tokenize(text)\n",
    "\n",
    "    # lemmatize the text\n",
    "    tokens = [WordNetLemmatizer().lemmatize(w) for w in tokens]\n",
    "\n",
    "    # remove stopwords\n",
    "    tokens = [w for w in tokens if w not in stopwords.words('portuguese')]\n",
    "    \n",
    "    return tokens\n",
    "\n",
    "def plot_results(y_test, y_pred):\n",
    "    # matrix de confusão\n",
    "    sns.heatmap(confusion_matrix(y_test, y_pred), annot=True, fmt=\".0f\", cmap=\"icefire\")\n",
    "    plt.show()\n",
    "    \n",
    "    # métricas da classificação \n",
    "    target_names = ['negative', 'positive']\n",
    "    print(classification_report(y_test, y_pred, target_names = target_names))"
   ]
  },
  {
   "cell_type": "code",
   "execution_count": 92,
   "metadata": {},
   "outputs": [
    {
     "data": {
      "text/html": [
       "<div>\n",
       "<style scoped>\n",
       "    .dataframe tbody tr th:only-of-type {\n",
       "        vertical-align: middle;\n",
       "    }\n",
       "\n",
       "    .dataframe tbody tr th {\n",
       "        vertical-align: top;\n",
       "    }\n",
       "\n",
       "    .dataframe thead th {\n",
       "        text-align: right;\n",
       "    }\n",
       "</style>\n",
       "<table border=\"1\" class=\"dataframe\">\n",
       "  <thead>\n",
       "    <tr style=\"text-align: right;\">\n",
       "      <th></th>\n",
       "      <th>text</th>\n",
       "      <th>sinal</th>\n",
       "    </tr>\n",
       "  </thead>\n",
       "  <tbody>\n",
       "    <tr>\n",
       "      <th>0</th>\n",
       "      <td>RT @EdegarPretto O meu candidato vice-governad...</td>\n",
       "      <td>1</td>\n",
       "    </tr>\n",
       "    <tr>\n",
       "      <th>2</th>\n",
       "      <td>RT @WinstonLing Segue o link para assistirem o...</td>\n",
       "      <td>1</td>\n",
       "    </tr>\n",
       "    <tr>\n",
       "      <th>4</th>\n",
       "      <td>@wmfigueiredo @evertonvf @bandrs @EduardoLeite...</td>\n",
       "      <td>0</td>\n",
       "    </tr>\n",
       "    <tr>\n",
       "      <th>5</th>\n",
       "      <td>@EduardoLeite_ 🤡</td>\n",
       "      <td>0</td>\n",
       "    </tr>\n",
       "    <tr>\n",
       "      <th>6</th>\n",
       "      <td>Nós já governamos o Rio Grande Sul com @olivio...</td>\n",
       "      <td>0</td>\n",
       "    </tr>\n",
       "    <tr>\n",
       "      <th>...</th>\n",
       "      <td>...</td>\n",
       "      <td>...</td>\n",
       "    </tr>\n",
       "    <tr>\n",
       "      <th>2918</th>\n",
       "      <td>@onyxlorenzoni Carai chevrolet tá puto</td>\n",
       "      <td>0</td>\n",
       "    </tr>\n",
       "    <tr>\n",
       "      <th>2919</th>\n",
       "      <td>Agora é pau cu dos liberaloides fogo nos fasci...</td>\n",
       "      <td>0</td>\n",
       "    </tr>\n",
       "    <tr>\n",
       "      <th>2922</th>\n",
       "      <td>@onyxlorenzoni Ele é bom historiador  pena que...</td>\n",
       "      <td>0</td>\n",
       "    </tr>\n",
       "    <tr>\n",
       "      <th>2924</th>\n",
       "      <td>#DebateNaBandRS lá vem mesmas lenga-lengas de ...</td>\n",
       "      <td>0</td>\n",
       "    </tr>\n",
       "    <tr>\n",
       "      <th>2949</th>\n",
       "      <td>@RicardoJobim30 Sucesso debate</td>\n",
       "      <td>1</td>\n",
       "    </tr>\n",
       "  </tbody>\n",
       "</table>\n",
       "<p>1119 rows × 2 columns</p>\n",
       "</div>"
      ],
      "text/plain": [
       "                                                   text  sinal\n",
       "0     RT @EdegarPretto O meu candidato vice-governad...      1\n",
       "2     RT @WinstonLing Segue o link para assistirem o...      1\n",
       "4     @wmfigueiredo @evertonvf @bandrs @EduardoLeite...      0\n",
       "5                                     @EduardoLeite_ 🤡       0\n",
       "6     Nós já governamos o Rio Grande Sul com @olivio...      0\n",
       "...                                                 ...    ...\n",
       "2918             @onyxlorenzoni Carai chevrolet tá puto      0\n",
       "2919  Agora é pau cu dos liberaloides fogo nos fasci...      0\n",
       "2922  @onyxlorenzoni Ele é bom historiador  pena que...      0\n",
       "2924  #DebateNaBandRS lá vem mesmas lenga-lengas de ...      0\n",
       "2949                     @RicardoJobim30 Sucesso debate      1\n",
       "\n",
       "[1119 rows x 2 columns]"
      ]
     },
     "execution_count": 92,
     "metadata": {},
     "output_type": "execute_result"
    }
   ],
   "source": [
    "df"
   ]
  },
  {
   "cell_type": "code",
   "execution_count": 102,
   "metadata": {},
   "outputs": [
    {
     "data": {
      "text/plain": [
       "'RT @EdegarPretto O meu candidato vice-governador é o @PedroRuasPsol fundador trabalhismo e defensor da escola integral de Leonel Bri…'"
      ]
     },
     "execution_count": 102,
     "metadata": {},
     "output_type": "execute_result"
    }
   ],
   "source": [
    "df.iloc[0, 0]"
   ]
  },
  {
   "cell_type": "code",
   "execution_count": 95,
   "metadata": {},
   "outputs": [],
   "source": [
    "X = df['text']\n",
    "y = df['sinal']\n",
    "\n",
    "X_train, X_test, y_train, y_test = train_test_split(X, y, test_size=.25, random_state=42)"
   ]
  },
  {
   "cell_type": "code",
   "execution_count": 99,
   "metadata": {},
   "outputs": [
    {
     "data": {
      "image/png": "[encoded data removed]",
      "text/plain": [
       "<Figure size 432x288 with 2 Axes>"
      ]
     },
     "metadata": {
      "needs_background": "light"
     },
     "output_type": "display_data"
    },
    {
     "name": "stdout",
     "output_type": "stream",
     "text": [
      "              precision    recall  f1-score   support\n",
      "\n",
      "    negative       0.79      0.91      0.85       175\n",
      "    positive       0.81      0.60      0.69       105\n",
      "\n",
      "    accuracy                           0.80       280\n",
      "   macro avg       0.80      0.76      0.77       280\n",
      "weighted avg       0.80      0.80      0.79       280\n",
      "\n"
     ]
    }
   ],
   "source": [
    "pipe = Pipeline([\n",
    "    ('tfidf', TfidfVectorizer(tokenizer=tokenize)),\n",
    "    ('mlp', MLPClassifier(hidden_layer_sizes=(300, 200, 100, 50), max_iter=500, activation='tanh', solver='adam'))\n",
    "])\n",
    "\n",
    "pipe.fit(X_train, y_train)\n",
    "y_pred = pipe.predict(X_test)\n",
    "plot_results(y_test, y_pred)"
   ]
  }
 ],
 "metadata": {
  "kernelspec": {
   "display_name": "Python 3.9.7 ('base')",
   "language": "python",
   "name": "python3"
  },
  "language_info": {
   "codemirror_mode": {
    "name": "ipython",
    "version": 3
   },
   "file_extension": ".py",
   "mimetype": "text/x-python",
   "name": "python",
   "nbconvert_exporter": "python",
   "pygments_lexer": "ipython3",
   "version": "3.9.7"
  },
  "orig_nbformat": 4,
  "vscode": {
   "interpreter": {
    "hash": "5a9f8fe2dbe13acf2a3933ecae393e09c8689df079fdc02936947523c3be48f8"
   }
  }
 },
 "nbformat": 4,
 "nbformat_minor": 2
}
