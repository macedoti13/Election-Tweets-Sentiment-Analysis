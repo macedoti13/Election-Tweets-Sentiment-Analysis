{
 "cells": [
  {
   "cell_type": "markdown",
   "metadata": {},
   "source": [
    "# Notebook de Desenvolvimento"
   ]
  },
  {
   "cell_type": "markdown",
   "metadata": {},
   "source": [
    "### Imports"
   ]
  },
  {
   "cell_type": "code",
   "execution_count": 1,
   "metadata": {},
   "outputs": [
    {
     "name": "stderr",
     "output_type": "stream",
     "text": [
      "[nltk_data] Downloading package punkt to\n",
      "[nltk_data]     /Users/thiagomacedo/nltk_data...\n",
      "[nltk_data]   Package punkt is already up-to-date!\n",
      "[nltk_data] Downloading package wordnet to\n",
      "[nltk_data]     /Users/thiagomacedo/nltk_data...\n",
      "[nltk_data]   Package wordnet is already up-to-date!\n",
      "[nltk_data] Downloading package stopwords to\n",
      "[nltk_data]     /Users/thiagomacedo/nltk_data...\n",
      "[nltk_data]   Package stopwords is already up-to-date!\n"
     ]
    },
    {
     "data": {
      "text/plain": [
       "True"
      ]
     },
     "execution_count": 1,
     "metadata": {},
     "output_type": "execute_result"
    }
   ],
   "source": [
    "import pandas as pd\n",
    "import numpy as np\n",
    "from sklearn.model_selection import train_test_split, GridSearchCV, StratifiedKFold\n",
    "from sklearn.neighbors import KNeighborsClassifier\n",
    "from sklearn.neural_network import MLPClassifier\n",
    "from sklearn.ensemble import RandomForestClassifier, AdaBoostClassifier, StackingClassifier\n",
    "from sklearn.svm import SVC\n",
    "from sklearn.linear_model import LogisticRegression\n",
    "from sklearn.naive_bayes import MultinomialNB\n",
    "from sklearn.pipeline import Pipeline\n",
    "from sklearn.feature_extraction.text import CountVectorizer, TfidfVectorizer, TfidfTransformer\n",
    "from sklearn.metrics import classification_report, confusion_matrix\n",
    "from xgboost import XGBClassifier\n",
    "import nltk\n",
    "from nltk.corpus import stopwords\n",
    "from nltk.tokenize import word_tokenize\n",
    "from nltk.stem.wordnet import WordNetLemmatizer\n",
    "import pandas as pd\n",
    "import numpy as np\n",
    "import re \n",
    "import matplotlib.pyplot as plt\n",
    "import seaborn as sns\n",
    "\n",
    "sns.color_palette(\"icefire\", as_cmap=True)\n",
    "nltk.download(['punkt', 'wordnet', 'stopwords'])"
   ]
  },
  {
   "cell_type": "markdown",
   "metadata": {},
   "source": [
    "## 1. Limpeza"
   ]
  },
  {
   "cell_type": "code",
   "execution_count": 2,
   "metadata": {},
   "outputs": [
    {
     "data": {
      "text/html": [
       "<div>\n",
       "<style scoped>\n",
       "    .dataframe tbody tr th:only-of-type {\n",
       "        vertical-align: middle;\n",
       "    }\n",
       "\n",
       "    .dataframe tbody tr th {\n",
       "        vertical-align: top;\n",
       "    }\n",
       "\n",
       "    .dataframe thead th {\n",
       "        text-align: right;\n",
       "    }\n",
       "</style>\n",
       "<table border=\"1\" class=\"dataframe\">\n",
       "  <thead>\n",
       "    <tr style=\"text-align: right;\">\n",
       "      <th></th>\n",
       "      <th>author_id</th>\n",
       "      <th>created_at</th>\n",
       "      <th>id</th>\n",
       "      <th>lang</th>\n",
       "      <th>retweet_count</th>\n",
       "      <th>text</th>\n",
       "      <th>sinal</th>\n",
       "    </tr>\n",
       "  </thead>\n",
       "  <tbody>\n",
       "    <tr>\n",
       "      <th>0</th>\n",
       "      <td>1,46E+18</td>\n",
       "      <td>2022-08-08T01:08:23Z</td>\n",
       "      <td>1,56E+18</td>\n",
       "      <td>pt</td>\n",
       "      <td>45</td>\n",
       "      <td>RT @EdegarPretto O meu candidato vice-governad...</td>\n",
       "      <td>1.0</td>\n",
       "    </tr>\n",
       "    <tr>\n",
       "      <th>1</th>\n",
       "      <td>1,51E+18</td>\n",
       "      <td>2022-08-08T01:08:23Z</td>\n",
       "      <td>1,56E+18</td>\n",
       "      <td>pt</td>\n",
       "      <td>0</td>\n",
       "      <td>Periga o Argenta chamar o Simon pra responder ...</td>\n",
       "      <td>NaN</td>\n",
       "    </tr>\n",
       "    <tr>\n",
       "      <th>2</th>\n",
       "      <td>1,06E+18</td>\n",
       "      <td>2022-08-08T01:08:21Z</td>\n",
       "      <td>1,56E+18</td>\n",
       "      <td>pt</td>\n",
       "      <td>14</td>\n",
       "      <td>RT @WinstonLing Segue o link para assistirem o...</td>\n",
       "      <td>1.0</td>\n",
       "    </tr>\n",
       "    <tr>\n",
       "      <th>3</th>\n",
       "      <td>7,15E+17</td>\n",
       "      <td>2022-08-08T01:08:20Z</td>\n",
       "      <td>1,56E+18</td>\n",
       "      <td>pt</td>\n",
       "      <td>88</td>\n",
       "      <td>RT @EdegarPretto Eu quero dizer aos gaúchos e ...</td>\n",
       "      <td>NaN</td>\n",
       "    </tr>\n",
       "    <tr>\n",
       "      <th>4</th>\n",
       "      <td>1455004730</td>\n",
       "      <td>2022-08-08T01:08:20Z</td>\n",
       "      <td>1,56E+18</td>\n",
       "      <td>pt</td>\n",
       "      <td>0</td>\n",
       "      <td>@wmfigueiredo @evertonvf @bandrs @EduardoLeite...</td>\n",
       "      <td>0.0</td>\n",
       "    </tr>\n",
       "  </tbody>\n",
       "</table>\n",
       "</div>"
      ],
      "text/plain": [
       "    author_id            created_at        id lang  retweet_count  \\\n",
       "0    1,46E+18  2022-08-08T01:08:23Z  1,56E+18   pt             45   \n",
       "1    1,51E+18  2022-08-08T01:08:23Z  1,56E+18   pt              0   \n",
       "2    1,06E+18  2022-08-08T01:08:21Z  1,56E+18   pt             14   \n",
       "3    7,15E+17  2022-08-08T01:08:20Z  1,56E+18   pt             88   \n",
       "4  1455004730  2022-08-08T01:08:20Z  1,56E+18   pt              0   \n",
       "\n",
       "                                                text  sinal  \n",
       "0  RT @EdegarPretto O meu candidato vice-governad...    1.0  \n",
       "1  Periga o Argenta chamar o Simon pra responder ...    NaN  \n",
       "2  RT @WinstonLing Segue o link para assistirem o...    1.0  \n",
       "3  RT @EdegarPretto Eu quero dizer aos gaúchos e ...    NaN  \n",
       "4  @wmfigueiredo @evertonvf @bandrs @EduardoLeite...    0.0  "
      ]
     },
     "execution_count": 2,
     "metadata": {},
     "output_type": "execute_result"
    }
   ],
   "source": [
    "df = pd.read_csv('tweets.csv')\n",
    "df.head()"
   ]
  },
  {
   "cell_type": "code",
   "execution_count": 3,
   "metadata": {},
   "outputs": [
    {
     "name": "stdout",
     "output_type": "stream",
     "text": [
      "<class 'pandas.core.frame.DataFrame'>\n",
      "RangeIndex: 3000 entries, 0 to 2999\n",
      "Data columns (total 7 columns):\n",
      " #   Column         Non-Null Count  Dtype  \n",
      "---  ------         --------------  -----  \n",
      " 0   author_id      3000 non-null   object \n",
      " 1   created_at     3000 non-null   object \n",
      " 2   id             3000 non-null   object \n",
      " 3   lang           3000 non-null   object \n",
      " 4   retweet_count  3000 non-null   int64  \n",
      " 5   text           3000 non-null   object \n",
      " 6   sinal          1372 non-null   float64\n",
      "dtypes: float64(1), int64(1), object(5)\n",
      "memory usage: 164.2+ KB\n"
     ]
    }
   ],
   "source": [
    "df.info()"
   ]
  },
  {
   "cell_type": "code",
   "execution_count": 4,
   "metadata": {},
   "outputs": [
    {
     "data": {
      "text/html": [
       "<div>\n",
       "<style scoped>\n",
       "    .dataframe tbody tr th:only-of-type {\n",
       "        vertical-align: middle;\n",
       "    }\n",
       "\n",
       "    .dataframe tbody tr th {\n",
       "        vertical-align: top;\n",
       "    }\n",
       "\n",
       "    .dataframe thead th {\n",
       "        text-align: right;\n",
       "    }\n",
       "</style>\n",
       "<table border=\"1\" class=\"dataframe\">\n",
       "  <thead>\n",
       "    <tr style=\"text-align: right;\">\n",
       "      <th></th>\n",
       "      <th>text</th>\n",
       "      <th>sinal</th>\n",
       "    </tr>\n",
       "  </thead>\n",
       "  <tbody>\n",
       "    <tr>\n",
       "      <th>0</th>\n",
       "      <td>RT @EdegarPretto O meu candidato vice-governad...</td>\n",
       "      <td>1.0</td>\n",
       "    </tr>\n",
       "    <tr>\n",
       "      <th>1</th>\n",
       "      <td>Periga o Argenta chamar o Simon pra responder ...</td>\n",
       "      <td>NaN</td>\n",
       "    </tr>\n",
       "    <tr>\n",
       "      <th>2</th>\n",
       "      <td>RT @WinstonLing Segue o link para assistirem o...</td>\n",
       "      <td>1.0</td>\n",
       "    </tr>\n",
       "    <tr>\n",
       "      <th>3</th>\n",
       "      <td>RT @EdegarPretto Eu quero dizer aos gaúchos e ...</td>\n",
       "      <td>NaN</td>\n",
       "    </tr>\n",
       "    <tr>\n",
       "      <th>4</th>\n",
       "      <td>@wmfigueiredo @evertonvf @bandrs @EduardoLeite...</td>\n",
       "      <td>0.0</td>\n",
       "    </tr>\n",
       "  </tbody>\n",
       "</table>\n",
       "</div>"
      ],
      "text/plain": [
       "                                                text  sinal\n",
       "0  RT @EdegarPretto O meu candidato vice-governad...    1.0\n",
       "1  Periga o Argenta chamar o Simon pra responder ...    NaN\n",
       "2  RT @WinstonLing Segue o link para assistirem o...    1.0\n",
       "3  RT @EdegarPretto Eu quero dizer aos gaúchos e ...    NaN\n",
       "4  @wmfigueiredo @evertonvf @bandrs @EduardoLeite...    0.0"
      ]
     },
     "execution_count": 4,
     "metadata": {},
     "output_type": "execute_result"
    }
   ],
   "source": [
    "df = df[['text', 'sinal']]\n",
    "df.head()"
   ]
  },
  {
   "cell_type": "code",
   "execution_count": 5,
   "metadata": {},
   "outputs": [
    {
     "data": {
      "text/html": [
       "<div>\n",
       "<style scoped>\n",
       "    .dataframe tbody tr th:only-of-type {\n",
       "        vertical-align: middle;\n",
       "    }\n",
       "\n",
       "    .dataframe tbody tr th {\n",
       "        vertical-align: top;\n",
       "    }\n",
       "\n",
       "    .dataframe thead th {\n",
       "        text-align: right;\n",
       "    }\n",
       "</style>\n",
       "<table border=\"1\" class=\"dataframe\">\n",
       "  <thead>\n",
       "    <tr style=\"text-align: right;\">\n",
       "      <th></th>\n",
       "      <th>text</th>\n",
       "      <th>sinal</th>\n",
       "    </tr>\n",
       "  </thead>\n",
       "  <tbody>\n",
       "    <tr>\n",
       "      <th>0</th>\n",
       "      <td>RT @EdegarPretto O meu candidato vice-governad...</td>\n",
       "      <td>1.0</td>\n",
       "    </tr>\n",
       "    <tr>\n",
       "      <th>2</th>\n",
       "      <td>RT @WinstonLing Segue o link para assistirem o...</td>\n",
       "      <td>1.0</td>\n",
       "    </tr>\n",
       "    <tr>\n",
       "      <th>4</th>\n",
       "      <td>@wmfigueiredo @evertonvf @bandrs @EduardoLeite...</td>\n",
       "      <td>0.0</td>\n",
       "    </tr>\n",
       "    <tr>\n",
       "      <th>5</th>\n",
       "      <td>@EduardoLeite_ 🤡</td>\n",
       "      <td>0.0</td>\n",
       "    </tr>\n",
       "    <tr>\n",
       "      <th>6</th>\n",
       "      <td>Nós já governamos o Rio Grande Sul com @olivio...</td>\n",
       "      <td>0.0</td>\n",
       "    </tr>\n",
       "  </tbody>\n",
       "</table>\n",
       "</div>"
      ],
      "text/plain": [
       "                                                text  sinal\n",
       "0  RT @EdegarPretto O meu candidato vice-governad...    1.0\n",
       "2  RT @WinstonLing Segue o link para assistirem o...    1.0\n",
       "4  @wmfigueiredo @evertonvf @bandrs @EduardoLeite...    0.0\n",
       "5                                  @EduardoLeite_ 🤡     0.0\n",
       "6  Nós já governamos o Rio Grande Sul com @olivio...    0.0"
      ]
     },
     "execution_count": 5,
     "metadata": {},
     "output_type": "execute_result"
    }
   ],
   "source": [
    "df = df.dropna(axis=0)\n",
    "df.head()"
   ]
  },
  {
   "cell_type": "code",
   "execution_count": 6,
   "metadata": {},
   "outputs": [
    {
     "data": {
      "text/html": [
       "<div>\n",
       "<style scoped>\n",
       "    .dataframe tbody tr th:only-of-type {\n",
       "        vertical-align: middle;\n",
       "    }\n",
       "\n",
       "    .dataframe tbody tr th {\n",
       "        vertical-align: top;\n",
       "    }\n",
       "\n",
       "    .dataframe thead th {\n",
       "        text-align: right;\n",
       "    }\n",
       "</style>\n",
       "<table border=\"1\" class=\"dataframe\">\n",
       "  <thead>\n",
       "    <tr style=\"text-align: right;\">\n",
       "      <th></th>\n",
       "      <th>text</th>\n",
       "      <th>sinal</th>\n",
       "    </tr>\n",
       "  </thead>\n",
       "  <tbody>\n",
       "    <tr>\n",
       "      <th>0</th>\n",
       "      <td>RT @EdegarPretto O meu candidato vice-governad...</td>\n",
       "      <td>1</td>\n",
       "    </tr>\n",
       "    <tr>\n",
       "      <th>2</th>\n",
       "      <td>RT @WinstonLing Segue o link para assistirem o...</td>\n",
       "      <td>1</td>\n",
       "    </tr>\n",
       "    <tr>\n",
       "      <th>4</th>\n",
       "      <td>@wmfigueiredo @evertonvf @bandrs @EduardoLeite...</td>\n",
       "      <td>0</td>\n",
       "    </tr>\n",
       "    <tr>\n",
       "      <th>5</th>\n",
       "      <td>@EduardoLeite_ 🤡</td>\n",
       "      <td>0</td>\n",
       "    </tr>\n",
       "    <tr>\n",
       "      <th>6</th>\n",
       "      <td>Nós já governamos o Rio Grande Sul com @olivio...</td>\n",
       "      <td>0</td>\n",
       "    </tr>\n",
       "  </tbody>\n",
       "</table>\n",
       "</div>"
      ],
      "text/plain": [
       "                                                text  sinal\n",
       "0  RT @EdegarPretto O meu candidato vice-governad...      1\n",
       "2  RT @WinstonLing Segue o link para assistirem o...      1\n",
       "4  @wmfigueiredo @evertonvf @bandrs @EduardoLeite...      0\n",
       "5                                  @EduardoLeite_ 🤡       0\n",
       "6  Nós já governamos o Rio Grande Sul com @olivio...      0"
      ]
     },
     "execution_count": 6,
     "metadata": {},
     "output_type": "execute_result"
    }
   ],
   "source": [
    "df.sinal = df.sinal.astype('int64')\n",
    "df.head()"
   ]
  },
  {
   "cell_type": "code",
   "execution_count": 7,
   "metadata": {},
   "outputs": [
    {
     "data": {
      "text/plain": [
       "(1372, 2)"
      ]
     },
     "execution_count": 7,
     "metadata": {},
     "output_type": "execute_result"
    }
   ],
   "source": [
    "df.shape"
   ]
  },
  {
   "cell_type": "code",
   "execution_count": 8,
   "metadata": {},
   "outputs": [
    {
     "data": {
      "text/plain": [
       "253"
      ]
     },
     "execution_count": 8,
     "metadata": {},
     "output_type": "execute_result"
    }
   ],
   "source": [
    "df.duplicated().sum()"
   ]
  },
  {
   "cell_type": "code",
   "execution_count": 9,
   "metadata": {},
   "outputs": [
    {
     "data": {
      "text/html": [
       "<div>\n",
       "<style scoped>\n",
       "    .dataframe tbody tr th:only-of-type {\n",
       "        vertical-align: middle;\n",
       "    }\n",
       "\n",
       "    .dataframe tbody tr th {\n",
       "        vertical-align: top;\n",
       "    }\n",
       "\n",
       "    .dataframe thead th {\n",
       "        text-align: right;\n",
       "    }\n",
       "</style>\n",
       "<table border=\"1\" class=\"dataframe\">\n",
       "  <thead>\n",
       "    <tr style=\"text-align: right;\">\n",
       "      <th></th>\n",
       "      <th>text</th>\n",
       "      <th>sinal</th>\n",
       "    </tr>\n",
       "  </thead>\n",
       "  <tbody>\n",
       "    <tr>\n",
       "      <th>0</th>\n",
       "      <td>RT @EdegarPretto O meu candidato vice-governad...</td>\n",
       "      <td>1</td>\n",
       "    </tr>\n",
       "    <tr>\n",
       "      <th>2</th>\n",
       "      <td>RT @WinstonLing Segue o link para assistirem o...</td>\n",
       "      <td>1</td>\n",
       "    </tr>\n",
       "    <tr>\n",
       "      <th>4</th>\n",
       "      <td>@wmfigueiredo @evertonvf @bandrs @EduardoLeite...</td>\n",
       "      <td>0</td>\n",
       "    </tr>\n",
       "    <tr>\n",
       "      <th>5</th>\n",
       "      <td>@EduardoLeite_ 🤡</td>\n",
       "      <td>0</td>\n",
       "    </tr>\n",
       "    <tr>\n",
       "      <th>6</th>\n",
       "      <td>Nós já governamos o Rio Grande Sul com @olivio...</td>\n",
       "      <td>0</td>\n",
       "    </tr>\n",
       "  </tbody>\n",
       "</table>\n",
       "</div>"
      ],
      "text/plain": [
       "                                                text  sinal\n",
       "0  RT @EdegarPretto O meu candidato vice-governad...      1\n",
       "2  RT @WinstonLing Segue o link para assistirem o...      1\n",
       "4  @wmfigueiredo @evertonvf @bandrs @EduardoLeite...      0\n",
       "5                                  @EduardoLeite_ 🤡       0\n",
       "6  Nós já governamos o Rio Grande Sul com @olivio...      0"
      ]
     },
     "execution_count": 9,
     "metadata": {},
     "output_type": "execute_result"
    }
   ],
   "source": [
    "df = df.drop_duplicates()\n",
    "df.head()"
   ]
  },
  {
   "cell_type": "code",
   "execution_count": 10,
   "metadata": {},
   "outputs": [
    {
     "data": {
      "text/plain": [
       "(1119, 2)"
      ]
     },
     "execution_count": 10,
     "metadata": {},
     "output_type": "execute_result"
    }
   ],
   "source": [
    "df.shape"
   ]
  },
  {
   "cell_type": "code",
   "execution_count": 11,
   "metadata": {},
   "outputs": [
    {
     "data": {
      "text/html": [
       "<div>\n",
       "<style scoped>\n",
       "    .dataframe tbody tr th:only-of-type {\n",
       "        vertical-align: middle;\n",
       "    }\n",
       "\n",
       "    .dataframe tbody tr th {\n",
       "        vertical-align: top;\n",
       "    }\n",
       "\n",
       "    .dataframe thead th {\n",
       "        text-align: right;\n",
       "    }\n",
       "</style>\n",
       "<table border=\"1\" class=\"dataframe\">\n",
       "  <thead>\n",
       "    <tr style=\"text-align: right;\">\n",
       "      <th></th>\n",
       "      <th>text</th>\n",
       "      <th>sinal</th>\n",
       "    </tr>\n",
       "  </thead>\n",
       "  <tbody>\n",
       "    <tr>\n",
       "      <th>0</th>\n",
       "      <td>RT @EdegarPretto O meu candidato vice-governad...</td>\n",
       "      <td>1</td>\n",
       "    </tr>\n",
       "    <tr>\n",
       "      <th>1</th>\n",
       "      <td>RT @WinstonLing Segue o link para assistirem o...</td>\n",
       "      <td>1</td>\n",
       "    </tr>\n",
       "    <tr>\n",
       "      <th>2</th>\n",
       "      <td>@wmfigueiredo @evertonvf @bandrs @EduardoLeite...</td>\n",
       "      <td>0</td>\n",
       "    </tr>\n",
       "    <tr>\n",
       "      <th>3</th>\n",
       "      <td>@EduardoLeite_ 🤡</td>\n",
       "      <td>0</td>\n",
       "    </tr>\n",
       "    <tr>\n",
       "      <th>4</th>\n",
       "      <td>Nós já governamos o Rio Grande Sul com @olivio...</td>\n",
       "      <td>0</td>\n",
       "    </tr>\n",
       "  </tbody>\n",
       "</table>\n",
       "</div>"
      ],
      "text/plain": [
       "                                                text  sinal\n",
       "0  RT @EdegarPretto O meu candidato vice-governad...      1\n",
       "1  RT @WinstonLing Segue o link para assistirem o...      1\n",
       "2  @wmfigueiredo @evertonvf @bandrs @EduardoLeite...      0\n",
       "3                                  @EduardoLeite_ 🤡       0\n",
       "4  Nós já governamos o Rio Grande Sul com @olivio...      0"
      ]
     },
     "execution_count": 11,
     "metadata": {},
     "output_type": "execute_result"
    }
   ],
   "source": [
    "df = df.reset_index(drop=True)\n",
    "df.head()"
   ]
  },
  {
   "cell_type": "code",
   "execution_count": 12,
   "metadata": {},
   "outputs": [
    {
     "name": "stdout",
     "output_type": "stream",
     "text": [
      "<class 'pandas.core.frame.DataFrame'>\n",
      "RangeIndex: 1119 entries, 0 to 1118\n",
      "Data columns (total 2 columns):\n",
      " #   Column  Non-Null Count  Dtype \n",
      "---  ------  --------------  ----- \n",
      " 0   text    1119 non-null   object\n",
      " 1   sinal   1119 non-null   int64 \n",
      "dtypes: int64(1), object(1)\n",
      "memory usage: 17.6+ KB\n"
     ]
    }
   ],
   "source": [
    "df.info()"
   ]
  },
  {
   "cell_type": "code",
   "execution_count": 13,
   "metadata": {},
   "outputs": [
    {
     "data": {
      "text/html": [
       "<div>\n",
       "<style scoped>\n",
       "    .dataframe tbody tr th:only-of-type {\n",
       "        vertical-align: middle;\n",
       "    }\n",
       "\n",
       "    .dataframe tbody tr th {\n",
       "        vertical-align: top;\n",
       "    }\n",
       "\n",
       "    .dataframe thead th {\n",
       "        text-align: right;\n",
       "    }\n",
       "</style>\n",
       "<table border=\"1\" class=\"dataframe\">\n",
       "  <thead>\n",
       "    <tr style=\"text-align: right;\">\n",
       "      <th></th>\n",
       "      <th>tweet</th>\n",
       "      <th>sentiment</th>\n",
       "    </tr>\n",
       "  </thead>\n",
       "  <tbody>\n",
       "    <tr>\n",
       "      <th>0</th>\n",
       "      <td>RT @EdegarPretto O meu candidato vice-governad...</td>\n",
       "      <td>1</td>\n",
       "    </tr>\n",
       "    <tr>\n",
       "      <th>1</th>\n",
       "      <td>RT @WinstonLing Segue o link para assistirem o...</td>\n",
       "      <td>1</td>\n",
       "    </tr>\n",
       "    <tr>\n",
       "      <th>2</th>\n",
       "      <td>@wmfigueiredo @evertonvf @bandrs @EduardoLeite...</td>\n",
       "      <td>0</td>\n",
       "    </tr>\n",
       "    <tr>\n",
       "      <th>3</th>\n",
       "      <td>@EduardoLeite_ 🤡</td>\n",
       "      <td>0</td>\n",
       "    </tr>\n",
       "    <tr>\n",
       "      <th>4</th>\n",
       "      <td>Nós já governamos o Rio Grande Sul com @olivio...</td>\n",
       "      <td>0</td>\n",
       "    </tr>\n",
       "  </tbody>\n",
       "</table>\n",
       "</div>"
      ],
      "text/plain": [
       "                                               tweet  sentiment\n",
       "0  RT @EdegarPretto O meu candidato vice-governad...          1\n",
       "1  RT @WinstonLing Segue o link para assistirem o...          1\n",
       "2  @wmfigueiredo @evertonvf @bandrs @EduardoLeite...          0\n",
       "3                                  @EduardoLeite_ 🤡           0\n",
       "4  Nós já governamos o Rio Grande Sul com @olivio...          0"
      ]
     },
     "execution_count": 13,
     "metadata": {},
     "output_type": "execute_result"
    }
   ],
   "source": [
    "df = df.rename(columns={'text':'tweet', 'sinal':'sentiment'})\n",
    "df.head()"
   ]
  },
  {
   "cell_type": "markdown",
   "metadata": {},
   "source": [
    "## 2. Modelagem"
   ]
  },
  {
   "cell_type": "code",
   "execution_count": 14,
   "metadata": {},
   "outputs": [],
   "source": [
    "def tokenize(text):\n",
    "    # make all text lowercase \n",
    "    text = text.lower()\n",
    "\n",
    "    # remove all type of punctuations \n",
    "    text = re.sub(f'[^a-z0-9]',' ', text)\n",
    "\n",
    "    # tokenize the text\n",
    "    tokens = word_tokenize(text)\n",
    "\n",
    "    # lemmatize the text\n",
    "    tokens = [WordNetLemmatizer().lemmatize(w) for w in tokens]\n",
    "\n",
    "    # remove stopwords\n",
    "    tokens = [w for w in tokens if w not in stopwords.words('portuguese')]\n",
    "    \n",
    "    return tokens\n",
    "\n",
    "def plot_results(y_test, y_pred):\n",
    "    # matrix de confusão\n",
    "    sns.heatmap(confusion_matrix(y_test, y_pred), annot=True, fmt=\".0f\", cmap=\"icefire\")\n",
    "    plt.show()\n",
    "    \n",
    "    # métricas da classificação \n",
    "    print(classification_report(y_test, y_pred))"
   ]
  },
  {
   "cell_type": "code",
   "execution_count": 15,
   "metadata": {},
   "outputs": [],
   "source": [
    "X = df['tweet']\n",
    "y = df['sentiment']\n",
    "\n",
    "X_train, X_test, y_train, y_test = train_test_split(X, y, test_size=.25, random_state=42)"
   ]
  },
  {
   "cell_type": "markdown",
   "metadata": {},
   "source": [
    "### KNN "
   ]
  },
  {
   "cell_type": "code",
   "execution_count": 16,
   "metadata": {},
   "outputs": [
    {
     "data": {
      "image/png": "[encoded data removed]",
      "text/plain": [
       "<Figure size 432x288 with 2 Axes>"
      ]
     },
     "metadata": {
      "needs_background": "light"
     },
     "output_type": "display_data"
    },
    {
     "name": "stdout",
     "output_type": "stream",
     "text": [
      "              precision    recall  f1-score   support\n",
      "\n",
      "           0       0.81      0.83      0.82       175\n",
      "           1       0.70      0.67      0.68       105\n",
      "\n",
      "    accuracy                           0.77       280\n",
      "   macro avg       0.75      0.75      0.75       280\n",
      "weighted avg       0.77      0.77      0.77       280\n",
      "\n"
     ]
    }
   ],
   "source": [
    "pipeline_knn = Pipeline([\n",
    "    ('vect', CountVectorizer(tokenizer=tokenize)),\n",
    "    ('tfidf', TfidfTransformer()),\n",
    "    ('moc', KNeighborsClassifier())\n",
    "])\n",
    "\n",
    "pipeline_knn.fit(X_train, y_train)\n",
    "y_pred = pipeline_knn.predict(X_test)\n",
    "plot_results(y_test, y_pred)"
   ]
  },
  {
   "cell_type": "markdown",
   "metadata": {},
   "source": [
    "### Multi Layer Perceptron"
   ]
  },
  {
   "cell_type": "code",
   "execution_count": 17,
   "metadata": {},
   "outputs": [
    {
     "data": {
      "image/png": "[encoded data removed]",
      "text/plain": [
       "<Figure size 432x288 with 2 Axes>"
      ]
     },
     "metadata": {
      "needs_background": "light"
     },
     "output_type": "display_data"
    },
    {
     "name": "stdout",
     "output_type": "stream",
     "text": [
      "              precision    recall  f1-score   support\n",
      "\n",
      "           0       0.82      0.90      0.86       175\n",
      "           1       0.80      0.68      0.73       105\n",
      "\n",
      "    accuracy                           0.81       280\n",
      "   macro avg       0.81      0.79      0.79       280\n",
      "weighted avg       0.81      0.81      0.81       280\n",
      "\n"
     ]
    }
   ],
   "source": [
    "pipeline_mlp = Pipeline([\n",
    "    ('vect', CountVectorizer(tokenizer=tokenize)),\n",
    "    ('tfidf', TfidfTransformer()),\n",
    "    ('moc', MLPClassifier())\n",
    "])\n",
    "\n",
    "pipeline_mlp.fit(X_train, y_train)\n",
    "y_pred = pipeline_mlp.predict(X_test)\n",
    "plot_results(y_test, y_pred)"
   ]
  },
  {
   "cell_type": "markdown",
   "metadata": {},
   "source": [
    "### Random Forest Classifier"
   ]
  },
  {
   "cell_type": "code",
   "execution_count": 18,
   "metadata": {},
   "outputs": [
    {
     "data": {
      "image/png": "[encoded data removed]",
      "text/plain": [
       "<Figure size 432x288 with 2 Axes>"
      ]
     },
     "metadata": {
      "needs_background": "light"
     },
     "output_type": "display_data"
    },
    {
     "name": "stdout",
     "output_type": "stream",
     "text": [
      "              precision    recall  f1-score   support\n",
      "\n",
      "           0       0.78      0.93      0.85       175\n",
      "           1       0.83      0.55      0.66       105\n",
      "\n",
      "    accuracy                           0.79       280\n",
      "   macro avg       0.80      0.74      0.75       280\n",
      "weighted avg       0.80      0.79      0.78       280\n",
      "\n"
     ]
    }
   ],
   "source": [
    "pipeline_rf = Pipeline([\n",
    "    ('vect', CountVectorizer(tokenizer=tokenize)),\n",
    "    ('tfidf', TfidfTransformer()),\n",
    "    ('moc', RandomForestClassifier())\n",
    "])\n",
    "\n",
    "pipeline_rf.fit(X_train, y_train)\n",
    "y_pred = pipeline_rf.predict(X_test)\n",
    "plot_results(y_test, y_pred)"
   ]
  },
  {
   "cell_type": "markdown",
   "metadata": {},
   "source": [
    "### XGBoost"
   ]
  },
  {
   "cell_type": "code",
   "execution_count": 19,
   "metadata": {},
   "outputs": [
    {
     "data": {
      "image/png": "[encoded data removed]",
      "text/plain": [
       "<Figure size 432x288 with 2 Axes>"
      ]
     },
     "metadata": {
      "needs_background": "light"
     },
     "output_type": "display_data"
    },
    {
     "name": "stdout",
     "output_type": "stream",
     "text": [
      "              precision    recall  f1-score   support\n",
      "\n",
      "           0       0.74      0.83      0.79       175\n",
      "           1       0.65      0.52      0.58       105\n",
      "\n",
      "    accuracy                           0.72       280\n",
      "   macro avg       0.70      0.68      0.68       280\n",
      "weighted avg       0.71      0.72      0.71       280\n",
      "\n"
     ]
    }
   ],
   "source": [
    "pipeline_xg = Pipeline([\n",
    "    ('vect', CountVectorizer(tokenizer=tokenize)),\n",
    "    ('tfidf', TfidfTransformer()),\n",
    "    ('moc', XGBClassifier())\n",
    "])\n",
    "pipeline_xg.fit(X_train, y_train)\n",
    "y_pred = pipeline_xg.predict(X_test)\n",
    "plot_results(y_test, y_pred)"
   ]
  },
  {
   "cell_type": "markdown",
   "metadata": {},
   "source": [
    "### Naive Bayes"
   ]
  },
  {
   "cell_type": "code",
   "execution_count": 20,
   "metadata": {},
   "outputs": [
    {
     "data": {
      "image/png": "[encoded data removed]",
      "text/plain": [
       "<Figure size 432x288 with 2 Axes>"
      ]
     },
     "metadata": {
      "needs_background": "light"
     },
     "output_type": "display_data"
    },
    {
     "name": "stdout",
     "output_type": "stream",
     "text": [
      "              precision    recall  f1-score   support\n",
      "\n",
      "           0       0.73      0.97      0.84       175\n",
      "           1       0.90      0.41      0.56       105\n",
      "\n",
      "    accuracy                           0.76       280\n",
      "   macro avg       0.81      0.69      0.70       280\n",
      "weighted avg       0.79      0.76      0.73       280\n",
      "\n"
     ]
    }
   ],
   "source": [
    "pipeline_nb = Pipeline([\n",
    "    ('vect', CountVectorizer(tokenizer=tokenize)),\n",
    "    ('tfidf', TfidfTransformer()),\n",
    "    ('moc', MultinomialNB())\n",
    "])\n",
    "pipeline_nb.fit(X_train, y_train)\n",
    "y_pred = pipeline_nb.predict(X_test)\n",
    "plot_results(y_test, y_pred)"
   ]
  },
  {
   "cell_type": "markdown",
   "metadata": {},
   "source": [
    "### AdaBoost "
   ]
  },
  {
   "cell_type": "code",
   "execution_count": 21,
   "metadata": {},
   "outputs": [
    {
     "data": {
      "image/png": "[encoded data removed]",
      "text/plain": [
       "<Figure size 432x288 with 2 Axes>"
      ]
     },
     "metadata": {
      "needs_background": "light"
     },
     "output_type": "display_data"
    },
    {
     "name": "stdout",
     "output_type": "stream",
     "text": [
      "              precision    recall  f1-score   support\n",
      "\n",
      "           0       0.75      0.82      0.78       175\n",
      "           1       0.64      0.53      0.58       105\n",
      "\n",
      "    accuracy                           0.71       280\n",
      "   macro avg       0.69      0.68      0.68       280\n",
      "weighted avg       0.71      0.71      0.71       280\n",
      "\n"
     ]
    }
   ],
   "source": [
    "pipeline_ad = Pipeline([\n",
    "        ('vect', CountVectorizer(tokenizer=tokenize)),\n",
    "        ('tfidf', TfidfTransformer()),\n",
    "        ('moc', AdaBoostClassifier())\n",
    "    ])\n",
    "pipeline_ad.fit(X_train, y_train)\n",
    "y_pred = pipeline_ad.predict(X_test)\n",
    "plot_results(y_test, y_pred)\n"
   ]
  },
  {
   "cell_type": "markdown",
   "metadata": {},
   "source": [
    "### Regressão Logística"
   ]
  },
  {
   "cell_type": "code",
   "execution_count": 22,
   "metadata": {},
   "outputs": [
    {
     "data": {
      "image/png": "[encoded data removed]",
      "text/plain": [
       "<Figure size 432x288 with 2 Axes>"
      ]
     },
     "metadata": {
      "needs_background": "light"
     },
     "output_type": "display_data"
    },
    {
     "name": "stdout",
     "output_type": "stream",
     "text": [
      "              precision    recall  f1-score   support\n",
      "\n",
      "           0       0.77      0.98      0.86       175\n",
      "           1       0.93      0.51      0.66       105\n",
      "\n",
      "    accuracy                           0.80       280\n",
      "   macro avg       0.85      0.75      0.76       280\n",
      "weighted avg       0.83      0.80      0.79       280\n",
      "\n"
     ]
    }
   ],
   "source": [
    "pipeline_lr = Pipeline([\n",
    "        ('vect', CountVectorizer(tokenizer=tokenize)),\n",
    "        ('tfidf', TfidfTransformer()),\n",
    "        ('moc', LogisticRegression())\n",
    "    ])\n",
    "pipeline_lr.fit(X_train, y_train)\n",
    "y_pred = pipeline_lr.predict(X_test)\n",
    "plot_results(y_test, y_pred)"
   ]
  },
  {
   "cell_type": "markdown",
   "metadata": {},
   "source": [
    "### Support Vector Machine"
   ]
  },
  {
   "cell_type": "code",
   "execution_count": 23,
   "metadata": {},
   "outputs": [
    {
     "data": {
      "image/png": "[encoded data removed]",
      "text/plain": [
       "<Figure size 432x288 with 2 Axes>"
      ]
     },
     "metadata": {
      "needs_background": "light"
     },
     "output_type": "display_data"
    },
    {
     "name": "stdout",
     "output_type": "stream",
     "text": [
      "              precision    recall  f1-score   support\n",
      "\n",
      "           0       0.75      0.96      0.84       175\n",
      "           1       0.88      0.48      0.62       105\n",
      "\n",
      "    accuracy                           0.78       280\n",
      "   macro avg       0.82      0.72      0.73       280\n",
      "weighted avg       0.80      0.78      0.76       280\n",
      "\n"
     ]
    }
   ],
   "source": [
    "pipeline_sv = Pipeline([\n",
    "        ('vect', CountVectorizer(tokenizer=tokenize)),\n",
    "        ('tfidf', TfidfTransformer()),\n",
    "        ('moc', SVC())\n",
    "    ])\n",
    "pipeline_sv.fit(X_train, y_train)\n",
    "y_pred = pipeline_sv.predict(X_test)\n",
    "plot_results(y_test, y_pred)"
   ]
  },
  {
   "cell_type": "markdown",
   "metadata": {},
   "source": [
    "### Stacking"
   ]
  },
  {
   "cell_type": "code",
   "execution_count": 24,
   "metadata": {},
   "outputs": [
    {
     "name": "stderr",
     "output_type": "stream",
     "text": [
      "/Users/thiagomacedo/opt/anaconda3/lib/python3.9/site-packages/sklearn/neural_network/_multilayer_perceptron.py:702: ConvergenceWarning: Stochastic Optimizer: Maximum iterations (200) reached and the optimization hasn't converged yet.\n",
      "  warnings.warn(\n"
     ]
    },
    {
     "data": {
      "image/png": "[encoded data removed]",
      "text/plain": [
       "<Figure size 432x288 with 2 Axes>"
      ]
     },
     "metadata": {
      "needs_background": "light"
     },
     "output_type": "display_data"
    },
    {
     "name": "stdout",
     "output_type": "stream",
     "text": [
      "              precision    recall  f1-score   support\n",
      "\n",
      "           0       0.82      0.91      0.86       175\n",
      "           1       0.81      0.67      0.73       105\n",
      "\n",
      "    accuracy                           0.82       280\n",
      "   macro avg       0.82      0.79      0.80       280\n",
      "weighted avg       0.82      0.82      0.81       280\n",
      "\n"
     ]
    }
   ],
   "source": [
    "pipe = Pipeline([\n",
    "    ('tfidf', TfidfVectorizer(tokenizer=tokenize)),\n",
    "    ('model', StackingClassifier(estimators=[('rf', RandomForestClassifier()), \n",
    "                                             ('ad', KNeighborsClassifier()), \n",
    "                                             ('xg', LogisticRegression())], \n",
    "                                             final_estimator=MLPClassifier()))\n",
    "])\n",
    "pipe.fit(X_train, y_train)\n",
    "y_pred = pipe.predict(X_test)\n",
    "plot_results(y_test, y_pred)"
   ]
  },
  {
   "cell_type": "markdown",
   "metadata": {},
   "source": [
    "### Tuning "
   ]
  },
  {
   "cell_type": "code",
   "execution_count": 25,
   "metadata": {},
   "outputs": [],
   "source": [
    "X = df['tweet']\n",
    "y = df['sentiment']\n",
    "\n",
    "X_train, X_test, y_train, y_test = train_test_split(X, y, test_size=.25, random_state=42)"
   ]
  },
  {
   "cell_type": "code",
   "execution_count": 26,
   "metadata": {},
   "outputs": [
    {
     "data": {
      "image/png": "[encoded data removed]",
      "text/plain": [
       "<Figure size 432x288 with 2 Axes>"
      ]
     },
     "metadata": {
      "needs_background": "light"
     },
     "output_type": "display_data"
    },
    {
     "name": "stdout",
     "output_type": "stream",
     "text": [
      "              precision    recall  f1-score   support\n",
      "\n",
      "           0       0.81      0.89      0.85       175\n",
      "           1       0.78      0.66      0.71       105\n",
      "\n",
      "    accuracy                           0.80       280\n",
      "   macro avg       0.79      0.77      0.78       280\n",
      "weighted avg       0.80      0.80      0.80       280\n",
      "\n"
     ]
    }
   ],
   "source": [
    "pipe = Pipeline([\n",
    "    ('tfidf', TfidfVectorizer(tokenizer=tokenize)),\n",
    "    ('mlp', MLPClassifier(hidden_layer_sizes=(300, 200, 100, 50), max_iter=500, activation='tanh', solver='adam'))\n",
    "])\n",
    "\n",
    "pipe.fit(X_train, y_train)\n",
    "y_pred = pipe.predict(X_test)\n",
    "plot_results(y_test, y_pred)"
   ]
  },
  {
   "cell_type": "code",
   "execution_count": 27,
   "metadata": {},
   "outputs": [
    {
     "data": {
      "image/png": "[encoded data removed]",
      "text/plain": [
       "<Figure size 432x288 with 2 Axes>"
      ]
     },
     "metadata": {
      "needs_background": "light"
     },
     "output_type": "display_data"
    },
    {
     "name": "stdout",
     "output_type": "stream",
     "text": [
      "              precision    recall  f1-score   support\n",
      "\n",
      "           0       0.83      0.90      0.86       175\n",
      "           1       0.80      0.69      0.74       105\n",
      "\n",
      "    accuracy                           0.82       280\n",
      "   macro avg       0.81      0.79      0.80       280\n",
      "weighted avg       0.82      0.82      0.81       280\n",
      "\n"
     ]
    }
   ],
   "source": [
    "cv = StratifiedKFold()\n",
    "param_grid = {\n",
    "    'mlp__hidden_layer_sizes': [(300,200,100,50), (200,100,50), (100,50,30)],\n",
    "    'mlp__max_iter': [500],\n",
    "    'mlp__activation': ['tanh', 'relu'],\n",
    "    'mlp__alpha': [0.0001, 0.01]\n",
    "}\n",
    "clf = GridSearchCV(estimator=pipe, param_grid=param_grid, cv=cv)\n",
    "clf.fit(X_train, y_train)\n",
    "y_pred = clf.predict(X_test)\n",
    "plot_results(y_test, y_pred)"
   ]
  }
 ],
 "metadata": {
  "kernelspec": {
   "display_name": "Python 3.9.7 ('base')",
   "language": "python",
   "name": "python3"
  },
  "language_info": {
   "codemirror_mode": {
    "name": "ipython",
    "version": 3
   },
   "file_extension": ".py",
   "mimetype": "text/x-python",
   "name": "python",
   "nbconvert_exporter": "python",
   "pygments_lexer": "ipython3",
   "version": "3.9.7"
  },
  "orig_nbformat": 4,
  "vscode": {
   "interpreter": {
    "hash": "5a9f8fe2dbe13acf2a3933ecae393e09c8689df079fdc02936947523c3be48f8"
   }
  }
 },
 "nbformat": 4,
 "nbformat_minor": 2
}
